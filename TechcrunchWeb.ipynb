{
  "nbformat": 4,
  "nbformat_minor": 0,
  "metadata": {
    "colab": {
      "provenance": [],
      "toc_visible": true,
      "authorship_tag": "ABX9TyNcmbj4gUc7UBmzyR0lzdfi",
      "include_colab_link": true
    },
    "kernelspec": {
      "name": "python3",
      "display_name": "Python 3"
    },
    "language_info": {
      "name": "python"
    }
  },
  "cells": [
    {
      "cell_type": "markdown",
      "metadata": {
        "id": "view-in-github",
        "colab_type": "text"
      },
      "source": [
        "<a href=\"https://colab.research.google.com/github/pravin1160/Python_with_AI/blob/main/TechcrunchWeb.ipynb\" target=\"_parent\"><img src=\"https://colab.research.google.com/assets/colab-badge.svg\" alt=\"Open In Colab\"/></a>"
      ]
    },
    {
      "cell_type": "code",
      "execution_count": 1,
      "metadata": {
        "colab": {
          "base_uri": "https://localhost:8080/"
        },
        "id": "cQJ37H03PPFG",
        "outputId": "f85e833c-c406-421f-cf15-2477fba9253c"
      },
      "outputs": [
        {
          "output_type": "stream",
          "name": "stdout",
          "text": [
            "Requirement already satisfied: beautifulsoup4 in /usr/local/lib/python3.10/dist-packages (4.12.3)\n",
            "Requirement already satisfied: soupsieve>1.2 in /usr/local/lib/python3.10/dist-packages (from beautifulsoup4) (2.6)\n",
            "Requirement already satisfied: requests in /usr/local/lib/python3.10/dist-packages (2.32.3)\n",
            "Requirement already satisfied: charset-normalizer<4,>=2 in /usr/local/lib/python3.10/dist-packages (from requests) (3.3.2)\n",
            "Requirement already satisfied: idna<4,>=2.5 in /usr/local/lib/python3.10/dist-packages (from requests) (3.10)\n",
            "Requirement already satisfied: urllib3<3,>=1.21.1 in /usr/local/lib/python3.10/dist-packages (from requests) (2.2.3)\n",
            "Requirement already satisfied: certifi>=2017.4.17 in /usr/local/lib/python3.10/dist-packages (from requests) (2024.8.30)\n"
          ]
        }
      ],
      "source": [
        "!pip install beautifulsoup4\n",
        "!pip install requests"
      ]
    },
    {
      "cell_type": "code",
      "source": [
        "import requests\n",
        "from bs4 import BeautifulSoup"
      ],
      "metadata": {
        "id": "9wwqdxVhPrT8"
      },
      "execution_count": 2,
      "outputs": []
    },
    {
      "cell_type": "code",
      "source": [
        "url=\"https://techcrunch.com/2024/04/30/sams-clubs-ai-powered-exit-tech-reaches-20-of-stores/\"\n",
        "response = requests.get(url)\n",
        "if response.status_code == 200:\n",
        "    # Parse the page content\n",
        "    soup = BeautifulSoup(response.content, 'html.parser')\n",
        "\n",
        "    # Extract the title of the article\n",
        "    title = soup.find('h1').get_text(strip=True)\n",
        "\n",
        "    # Extract the article's main content (usually found in <p> tags)\n",
        "    article_content = soup.find_all('p')\n",
        "\n",
        "    # Print the title of the article\n",
        "    print(\"Title: \", title)\n",
        "    print(\"\\nArticle Content:\\n\")\n",
        "\n",
        "    # Loop through each paragraph and print its content\n",
        "    for paragraph in article_content:\n",
        "        print(paragraph.get_text(strip=True))\n",
        "else:\n",
        "    print(f\"Failed to retrieve the page. Status code: {response.status_code}\")"
      ],
      "metadata": {
        "colab": {
          "base_uri": "https://localhost:8080/"
        },
        "id": "J8fNG86oPvWG",
        "outputId": "447f8f39-128b-4ef2-843a-d8c1d2a0d5ad"
      },
      "execution_count": 3,
      "outputs": [
        {
          "output_type": "stream",
          "name": "stdout",
          "text": [
            "Title:  Sam’s Club’s AI-powered exit tech reaches 20% of stores\n",
            "\n",
            "Article Content:\n",
            "\n",
            "Comment\n",
            "Amazon may be scaling back itsAI-powered Just Walk Out checkout-free techin its stores in favor of smart shopping carts, but Walmart-owned Sam’s Club says it’s turning to AI to speed up its own exit technology. Instead of requiring store staff to check members’ purchases against their receipts when leaving the store, Sam’s Club customers who pay either at a register or through the Scan & Go mobile app can now walk out of the store without having their purchases double-checked.\n",
            "The technology,unveiledat the Consumer Electronics Show in January, has now been deployed at over 120 clubs across the U.S., which is 20% of the total number of Sam’s Club locations. Since rolling out, the company claims that it has significantly sped up exits, as members leave the store 23% faster. The retailer plans to expand the tech to all its stores by year-end.\n",
            "The system works via a combination of computer vision and digital tech that captures images of customers’ carts and then verifies payment for the items in their basket. Sam’s Club says AI is used in the background to speed up the process. The AI also learns and improves over time as thousands of exit transactions across locations are analyzed.\n",
            "Before the technology was put into place, Sam’s Club members would have to queue up at the store’s exit to wait to have their receipts checked. The new solution keeps them moving along and frees up store staff to focus on other tasks.\n",
            "The company also took a subtle shot at rival Amazon in announcing the expansion, noting that its technology arrives as “other retailers have struggled to deploy similar technology at scale, with some abandoning efforts” — a clear reference to Amazon’s pullback on Just Walk Out. In addition,Amazon had to fend off criticismthat its AI tech had relied on 1,000 some human workers to review transactions. Amazon said machine learning had powered its technology and that contractors were only annotating the AI and shopping data to improve the system.\n",
            "By comparison, Sam’s Club says it has less than 40 employees working on deployment of exit technology, including engineering, product, UX, marketing, operations, and real estate.\n",
            "Every weekday and Sunday, you can get the best of TechCrunch’s coverage.\n",
            "Startups are the core of TechCrunch, so get our best coverage delivered weekly.\n",
            "The latest Fintech news and analysis, delivered every Tuesday.\n",
            "TechCrunch Mobility is your destination for transportation news and insight.\n",
            "By submitting your email, you agree to ourTermsandPrivacy Notice.\n",
            "Peak XV, the largest India and Southeast Asia-focused venture firm, is reducing the size of some of its funds and lowering fees as it seeks to become “deeply aligned” with…\n",
            "Palmer Luckey raged against America’s adversaries, endorsed completely autonomous weapons, and hinted at an Anduril IPO.\n",
            "Impulse Space has raised a massive new tranche of funding as big-name investors bet that moving satellites around in orbit will soon be a high demand service.  The startup, which…\n",
            "Featured Article\n",
            "A complete list of all the known layoffs in tech, from Big Tech to startups, broken down by month throughout 2024.\n",
            "In San Francisco’s Mission district, good music is all around you. That’s why, high up on a street pole at an undisclosed location in the Mission, Riley Walz installed a…\n",
            "Instagram head Adam Mosseri announced on Tuesday that users who have connected their accounts to the fediverse, also known as the open social web, can now see who follows them…\n",
            "Durk Kingma, one of the lesser-known co-founders of OpenAI, today announced that he’ll be joining Anthropic. In a series of posts on X, Kingma revealed that he’ll be working mostly…\n",
            "Amsterdam-based Brineworks, a company specializing in seawater electrolysis technology, says its innovative method is expected to cost under $100 per ton of CO2 at scale.\n",
            "It’s been a tumultuous week for OpenAI, full of executive departures and major fundraising developments, but the startup is back at it, trying to convince developers to build tools with…\n",
            "The new capability, rolling out Tuesday, will help advertisers who want to enhance their Pinterest Product Pins (ads) and attract more clicks, according to Pinterest.\n",
            "Monorepos are becoming an increasingly popular way to manage source code, but they require a slightly different toolset. Google developed its own internal build and test tool on top of…\n",
            "Sometimes, a demo is all you need to understand a product. And that’s the case with Runware. If you head over to Runware’s website, enter a prompt and hit enter…\n",
            "Where most startups aim to recreate the superheated, super-pressurized conditions inside of a star, Acceleron takes a different approach.\n",
            "Microsoft was ahead of the game in the world of enterprise AR.\n",
            "Get ready for TechCrunch Disrupt 2024, our signature event for startups of all stages, taking place at Moscone West in San Francisco from October 28-30. This year, we’re expecting a…\n",
            "Last year, Sound Ventures, the 9-year-old, Beverly Hills, California-based venture firm led by general partners Ashton Kutcher, Guy Oseary, and Effie Epstein, announced a new $265 million AI fund that…\n",
            "Numa, a startup developing AI-powered automation tech for car dealerships, has raised fresh capital in a Series B round.\n",
            "Featured Article\n",
            "Jesse Kipf was a prolific hacker who sold access to systems he hacked, had contacts with a notorious cybercrime gang, and tried to use his hacking skills to get off the grid for good.\n",
            "Ford is slashing both the monthly and annual cost of its hands-free driver-assistance feature, BlueCruise, for new and existing owners in response to “customer and dealer” feedback, the company tells…\n",
            "Drones and sidewalk delivery robots promise to make last-mile delivery cheaper and more efficient, but they both have their limitations. Drones have trouble touching down in dense urban areas, and…\n",
            "People participating on the open social web have a problem: It’s not yet possible to reach users on multiple sites like Bluesky, Mastodon, and Threads with a single post. While…\n",
            "Microsoft has given its Copilot assistant on Windows a makeover — and a voice. Copilot can now read your screen, speak aloud, and more.\n",
            "Microsoft has broadly launched Bing Generative Search, its answer to Google’s AI Overviews and other AI-powered search apps.\n",
            "Microsoft is paying publishers for content as part of a new Copilot feature, Copilot Daily, that gives a spoken summary of current events.\n",
            "Evil Corp maintains a “privileged” relationship with the Kremlin, and was often tasked with launching cyberattacks on behalf of Russia.\n",
            "E-commerce giant eBay, facing stiff competition from newer rivals, has removed final-value sales fees for all items excluding cars sold domestically in the U.K. This mirrors a similar move the…\n",
            "Google is announcing new Chromebook models today with Samsung and Lenovo. With Samsung’s Galaxy Chromebook Plus model in particular, the company is also introducing a new multifunctional quick insert key.…\n",
            "Anduril sued defense tech startup Salient Motion. It still raised $12 million with participation from Anduril investor a16z.\n",
            "The company laid out a plan it hopes will go a long way toward reversing fortunes and repairing relationships.\n",
            "A team of founders who sold their last company to Amazon to build a new unit within AWS is setting out to reinvent the tricky business of backing up organizations’…\n",
            "Powered byWordPress VIP\n"
          ]
        }
      ]
    }
  ]
}